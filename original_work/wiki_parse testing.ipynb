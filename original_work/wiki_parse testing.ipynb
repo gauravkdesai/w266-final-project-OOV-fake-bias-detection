{
 "cells": [
  {
   "cell_type": "code",
   "execution_count": 5,
   "metadata": {},
   "outputs": [],
   "source": [
    "from xml.dom import minidom                                          \n",
    "xmldoc = minidom.parse('./nyt_sample.xml')  \n"
   ]
  },
  {
   "cell_type": "markdown",
   "metadata": {},
   "source": [
    "# Key wiki features we need to parse out\n",
    "\n",
    "wikicontent, wikisummary, wikicategories, wikitoc\n",
    "\n",
    "    1) Table of contents (Potentially done, needs more extensive testing)\n",
    "    2) Summary\n",
    "    3) Main Content"
   ]
  },
  {
   "cell_type": "code",
   "execution_count": 11,
   "metadata": {},
   "outputs": [
    {
     "name": "stdout",
     "output_type": "stream",
     "text": [
      "<html>\n",
      "<title>The New York Times</title>\n",
      "</html>\n"
     ]
    }
   ],
   "source": [
    "# Example python code from https://docs.python.org/2/library/xml.dom.minidom.html\n",
    "\n",
    "def getText(nodelist):\n",
    "    rc = []\n",
    "    for node in nodelist:\n",
    "        if node.nodeType == node.TEXT_NODE:\n",
    "            rc.append(node.data)\n",
    "    return ''.join(rc)\n",
    "\n",
    "def handleSlideshow(slideshow):\n",
    "    print(\"<html>\")\n",
    "    handleSlideshowTitle(slideshow.getElementsByTagName(\"title\")[0])\n",
    "    slides = slideshow.getElementsByTagName(\"slide\")\n",
    "    handleToc(slides)\n",
    "    handleSlides(slides)\n",
    "    print(\"</html>\")\n",
    "\n",
    "def handleSlides(slides):\n",
    "    for slide in slides:\n",
    "        handleSlide(slide)\n",
    "\n",
    "def handleSlide(slide):\n",
    "    handleSlideTitle(slide.getElementsByTagName(\"title\")[0])\n",
    "    handlePoints(slide.getElementsByTagName(\"point\"))\n",
    "\n",
    "def handleSlideshowTitle(title):\n",
    "    print(\"<title>%s</title>\" % getText(title.childNodes))\n",
    "\n",
    "def handleSlideTitle(title):\n",
    "    print(\"<h2>%s</h2>\" % getText(title.childNodes))\n",
    "\n",
    "def handlePoints(points):\n",
    "    print(\"<ul>\")\n",
    "    for point in points:\n",
    "        handlePoint(point)\n",
    "    print(\"</ul>\")\n",
    "\n",
    "def handlePoint(point):\n",
    "    print(\"<li>%s</li>\" % getText(point.childNodes))\n",
    "\n",
    "def handleToc(slides):\n",
    "    for slide in slides:\n",
    "        title = slide.getElementsByTagName(\"title\")[0]\n",
    "        print(\"<p>%s</p>\" % getText(title.childNodes))\n",
    "\n",
    "handleSlideshow(xmldoc)"
   ]
  },
  {
   "cell_type": "code",
   "execution_count": 50,
   "metadata": {},
   "outputs": [],
   "source": [
    "# Somewhat ugly but seemingly effective way to get our table of contents\n",
    "\n",
    "test = xmldoc.getElementsByTagName(\"text\")[0].childNodes[0].data\n",
    "toc = []\n",
    "main_contents = []\n",
    "\n",
    "counter = 0\n",
    "for split in test.split(\"==\"):\n",
    "    if counter%2==0:\n",
    "        main_contents.append(split)\n",
    "    else:\n",
    "        toc.append(str.strip(split.replace('=','')))\n",
    "    counter +=1"
   ]
  },
  {
   "cell_type": "code",
   "execution_count": 52,
   "metadata": {},
   "outputs": [
    {
     "data": {
      "text/plain": [
       "\"\\n[[File:First NYTimes frontpage (1851-9-18).png|thumb|upright|First published issue of ''New-York Daily Times'', on September 18, 1851]]\\n\\n\""
      ]
     },
     "execution_count": 52,
     "metadata": {},
     "output_type": "execute_result"
    }
   ],
   "source": [
    "main_contents[1]"
   ]
  },
  {
   "cell_type": "code",
   "execution_count": 42,
   "metadata": {},
   "outputs": [
    {
     "name": "stdout",
     "output_type": "stream",
     "text": [
      "{{hatnote|Not to be confused with [[The Times]] (of London). See also [[NYT (disambiguation)]].}}\n",
      "{{pp-semi-indef|small=yes}}\n",
      "{{pp-move-indef}}\n",
      "{{short description|Daily broadsheet newspaper based in New York City}}\n",
      "{{Use mdy dates|date=January 2019}}\n",
      "{{Infobox newspaper\n",
      "| name = <!-- left blank to suppress automatic redundant caption above infobox -->\n",
      "| logo = NewYorkTimes.svg\n",
      "| image = [[File:NewYorkTimesFrontPage-15Nov2012.jpg|alt=border]]\n",
      "| caption = Cover of ''The New York Times'' (November 15, 2012), with the headline story reporting on [[Operation Pillar of Defense]]\n",
      "| type = [[Daily newspaper]]\n",
      "| format = [[Broadsheet]]\n",
      "| owners = [[The New York Times Company]]<br />([[Carlos Slim]] (17%))<ref>{{cite web|url=https://www.forbes.com/sites/katevinton/2016/06/01/these-15-billionaires-own-americas-news-media-companies/#3256b4ab30b4|title=These 15 Billionaires Own America's News Media Companies|first=Kate|last=Vinton|publisher=}}</ref>\n",
      "| publisher = [[A.G. Sulzberger]]\n",
      "| opeditor = [[James Bennet (journalist)|James Bennet]]\n",
      "| sportseditor = Jason Stallman<ref>{{cite news|title=Jason Stallman ‚Äì Times Insider|url=https://www.nytimes.com/times-insider/author/jason-stallman/|website=The New York Times}}</ref>\n",
      "| photoeditor = Michele McNally\n",
      "| staff = 1,300 news staff (2016)<ref>{{cite web|url=https://www.nytimes.com/2016/05/26/business/media/new-york-times-co-to-offer-buyouts-to-employees.html | title=New York Times Co. to Offer Buyouts to Employees | last = Rogers | first = Katie | website = The New York Times | date= May 25, 2016}}</ref>\n",
      "| foundation = {{Start date and age|1851|9|18}} (as New-York Daily Times)\n",
      "| ceased publication = \n",
      "| headquarters = [[The New York Times Building]]<br />620 [[Eighth Avenue (Manhattan)|Eighth Avenue]]<br />[[New York City]], New York 10018\n",
      "| circulation = {{plainlist|\n",
      "* 571,500 Daily<ref name=SEC1>{{cite web|url= http://d18rn0p25nwr6d.cloudfront.net/CIK-0000071691/37d516f5-b9da-4ca8-a50f-d70630760094.pdf|title=New York Times Company 10-K|date=February 22, 2017|work=nypost.com}}</ref>\n",
      "* 1,087,500 Sunday<ref name=SEC1 />\n",
      "* 2,900,000 Digital-only<ref>{{Cite web|url=https://s1.q4cdn.com/156149269/files/doc_financials/quarterly/2018/Q2/Press-Release-7-1-2018_final.pdf|title=Press Release 7.1.2018}}</ref>\n",
      "}}\n",
      "| ISSN = 0362-4331\n",
      "| eISSN = 1553-8095\n",
      "| oclc = 1645522\n",
      "| website = {{url|https://www.nytimes.com/}}\n",
      "| image_size = 250px\n",
      "| publishing_country = United States\n",
      "| image_alt = border\n",
      "| founders = {{plainlist|\n",
      "* [[Henry Jarvis Raymond]]\n",
      "* [[George Jones (publisher)|George Jones]]\n",
      "}}\n",
      "| circulation_date = May (Sunday) / November (daily) 2016 / (Digital-only) Aug 2018\n",
      "}}\n",
      "'''''The New York Times''''' (sometimes abbreviated as '''the ''NYT''''' and '''''NYTimes''''') is an American [[newspaper]] based in [[New York City]] with worldwide influence and readership.<ref name=\"EB2\">{{cite encyclopedia|title=The New York Times|encyclopedia=[[Encyclop√¶dia Britannica]]|url=http://www.britannica.com/EBchecked/topic/412546/The-New-York-Times|accessdate=September 27, 2011}}</ref><ref>{{Cite news|url=https://www.politico.com/media/story/2015/08/is-the-washington-post-closing-in-on-the-times-004045|title=Is The Washington Post closing in on the Times?|work=POLITICO Media|access-date=November 5, 2017}}</ref><ref>{{Cite news|url=http://www.economist.com/node/21550262|title=News of the world|date=March 17, 2012|work=The Economist|access-date=November 5, 2017|issn=0013-0613}}</ref> Founded in 1851, the paper has won [[List of Pulitzer Prizes awarded to The New York Times|125 Pulitzer Prizes]], more than any other newspaper.<ref name=\"Pulitzer2\">{{cite news|url=http://www.nytco.com/pulitzer-prizes/|title=Pulitzer Prizes|last=|first=|date=|work=|accessdate=November 5, 2017|publisher=The New York Times Company}}</ref><ref>{{Cite news |url=https://www.nytimes.com/2018/04/16/business/media/new-york-times-pulitzers.html |title=The Times Just Won 3 Pulitzers. Read the Winning Work. |last=Victor |first=Daniel |date=April 16, 2018 |work=The New York Times |access-date=July 16, 2018 |language=en-US}}</ref> The ''Times'' is ranked [[List of newspapers in the world by circulation|17th in the world by circulation]] and [[List of newspapers in the United States#Top 25 newspapers by circulation, 2015|2nd in the U.S.]]\n",
      "\n",
      "The paper is owned by [[The New York Times Company]], which is [[Public company|publicly traded]] and is controlled by the Sulzberger family through a dual-class share structure.<ref>{{Cite news|url=https://www.nytimes.com/2009/01/20/business/media/20times.html|title=Mexican Billionaire Invests in The New York Times Company|last=Dash|first=Eric|date=2009|work=The New York Times|access-date=November 5, 2017|language=en-US|issn=0362-4331}}</ref> It has been owned by the family since 1896; [[A.G. Sulzberger]], the paper's publisher, and his father, [[Arthur Ochs Sulzberger Jr.]], the company's [[chairman]], are the fourth and fifth generation of the family to helm the paper.<ref>{{cite news|url=http://nymag.com/daily/intelligencer/2016/10/a-g-sulzberger-becomes-deputy-publisher-of-new-york-times.html|title=A.G. Sulzberger Vanquishes His Cousins, Becomes Deputy Publisher of the New York Times|last=Levitz|first=Eric|date=October 19, 2016|publisher=[[New York (magazine)|New York]]}}</ref>\n",
      "\n",
      "Nicknamed \"'''The Gray Lady'''\",<ref>{{cite magazine |author=[[Meyer Berger|Berger, Meyer]] |date = September 17, 1951 |title= The Gray Lady Reaches 100 |url= https://books.google.com/books?id=tE4EAAAAMBAJ&pg=PA152&dq=%22the+gray+lady%22+%22new+york+times%22&hl=en&sa=X&ei=tokrT_DMKK7aiQKwttTgCg&ved=0CDwQ6AEwAA#v=onepage&q=%22the%20gray%20lady%22%20%22new%20york%20times%22&f=false |magazine= [[Life (magazine)|Life]] |access-date= March 12, 2016}}</ref> the ''Times'' has long been regarded within the industry as a national \"[[newspaper of record]]\".<ref name=\"EB\">{{cite encyclopedia | title=The New York Times | encyclopedia= [[Encyclop√¶dia Britannica]] | accessdate=September 27, 2011 | url=http://www.britannica.com/EBchecked/topic/412546/The-New-York-Times}}</ref> The paper's motto, \"All the News That's Fit to Print\", appears in the upper left-hand corner of the front page.\n",
      "\n",
      "Since the mid-1970s, ''The New York Times'' has greatly expanded its [[Page layout|layout]] and organization, adding special weekly sections on various topics supplementing the regular news, editorials, sports, and features. Since 2008,<ref name=\"P√©rez-Pe√±a, Richard\">{{cite news|url=https://www.nytimes.com/2008/09/06/business/media/06times.html|title=Times Plans to Combine Sections of the Paper|author=P√©rez-Pe√±a, Richard|date=September 5, 2008|work=The New York Times|accessdate=September 16, 2008}}</ref> the ''Times'' has been organized into the following sections: News, Editorials/Opinions-Columns/Op-Ed, New York (metropolitan), Business, Sports of The Times, Arts, Science, Styles, Home, Travel, and other features.<ref>{{Cite web|url=https://www.nytimes.com/info/contents/contents.html|title=The New York Times Site Index|last=|first=|date=|website=The New York Times|access-date=February 25, 2017}}</ref> On Sunday, the ''Times'' is supplemented by the ''[[Sunday Review]]'' (formerly the ''Week in Review''),<ref>{{Cite news|url=https://www.nytimes.com/2011/06/19/opinion/19sunday-review-letter.html|title=A Letter to Our Readers About the Sunday Review|date=June 18, 2011|newspaper=The New York Times|issn=0362-4331|access-date=January 26, 2017}}</ref> ''[[The New York Times Book Review]]'',<ref>{{Cite web|url=https://www.c-span.org/video/?195760-1/inside-new-york-times-book-review|title=Inside The New York Times Book Review|last=|first=|date=|website=C-SPAN.org|publisher=|language=en-US|access-date=January 26, 2017}}</ref> ''[[The New York Times Magazine]]''<ref>{{Cite news|url=https://www.nytimes.com/2015/02/22/magazine/behind-the-relaunch-of-the-new-york-times-magazine-by-jake-silverstein.html|title=Behind the Relaunch of The New York Times Magazine|last=Silverstein|first=Jake|date=February 18, 2015|newspaper=The New York Times|issn=0362-4331|access-date=January 26, 2017}}</ref> and ''[[T: The New York Times Style Magazine]]''.<ref>{{Cite web|url=http://investors.nytco.com/press/press-releases/press-release-details/2012/Redesigned-T-Magazine-Franchise-to-Launch-in-2013/default.aspx|title=The New York Times Company ‚Äì Redesigned T Magazine Franchise to Launch in 2013|website=investors.nytco.com|language=en-CA|access-date=January 26, 2017}}</ref> The ''Times'' stayed with the [[broadsheet]] full-page set-up and an eight-column format for several years after most papers switched to six,<ref name=\"change to six\">{{cite news|url=https://query.nytimes.com/gst/abstract.html?res=9905EFDD113EEF34BC4D52DFB066838D669EDE|title=The New York Times to Change To a 6-Column Format Sept. 7|date=June 15, 1976|work=The New York Times|accessdate=September 16, 2008}}</ref> and was one of the last newspapers to adopt [[color photography]], especially on the front page.<ref name=\"nyt1971\">{{cite web|url=http://www.nytco.com/company/milestones/timeline_1971.html|title=New York Times Timeline 1971‚Äì2000|publisher=The New York Times Company|archiveurl=https://web.archive.org/web/20080918223325/http://www.nytco.com/company/milestones/timeline_1971.html|archivedate=September 18, 2008|deadurl=yes|accessdate=September 19, 2008}}</ref>\n",
      "\n",
      "{{TOC limit|4}}\n",
      "\n",
      "\n"
     ]
    }
   ],
   "source": [
    "# Somewhat ugly but seemingly effective way to get our table of contents\n",
    "\n",
    "test = xmldoc.getElementsByTagName(\"text\")[0].childNodes[0].data\n",
    "\n",
    "summary = test.split(\"==\")[0]\n",
    "\n",
    "print(summary)"
   ]
  },
  {
   "cell_type": "code",
   "execution_count": 43,
   "metadata": {},
   "outputs": [],
   "source": [
    "import re"
   ]
  },
  {
   "cell_type": "markdown",
   "metadata": {},
   "source": [
    "# Regex rules we need to write\n",
    "\n",
    "    1) Remove all text between </ref> tags\n",
    "    2) Remove anything between {{ }} unless adheres to one of following forms:\n",
    "        a) {{hatnote| ....}} | in this case everything after the \"|\" is real text\n",
    "        b) *{{cite web|....}} | might be useful to parse name of article which is cited, but can probably toss"
   ]
  },
  {
   "cell_type": "markdown",
   "metadata": {},
   "source": [
    "# Once we have the stuff parsed...."
   ]
  },
  {
   "cell_type": "code",
   "execution_count": 2,
   "metadata": {},
   "outputs": [],
   "source": [
    "# Useful library for embeddings\n",
    "import gensim\n",
    "import numpy as np\n",
    "\n",
    "def load_lstm_model(path):\n",
    "    # Grabs our already created LSTM model which we trained and is\n",
    "    # super awesome from some pathway\n",
    "    #return lstm_model\n",
    "    pass\n",
    "\n",
    "# Load Google's pre-trained Word2Vec model from our thing\n",
    "# Note: DONT COMMIT THAT FILE TO GITHUB!!!\n",
    "wordVec = gensim.models.KeyedVectors.load_word2vec_format(\n",
    "    './word2vec_model/GoogleNews-vectors-negative300.bin', binary=True)  \n",
    "\n",
    "\n",
    "def return_avg_embedding(tokens, model):\n",
    "    \"\"\"\n",
    "    Takes a list of tokens and finds average embedding.  If embedding does not exist\n",
    "    in Word2Vec, we predict a proxy using \"model\"\n",
    "    \n",
    "    :param tokens: list of english tokens\n",
    "    :param model: ML model which can predict 300d embedding from string input\n",
    "    :return: returns a 300d embedding which is average of all tokens passed into function\n",
    "    \"\"\"\n",
    "    \n",
    "    global wordVec\n",
    "    \n",
    "    # Initialize an array of zeros and a counter\n",
    "    final_embedding = np.zeroes(300)\n",
    "    count = 0\n",
    "    \n",
    "    # For each token check if pre-trained word2vec exists, otherwise predict\n",
    "    # using pre-trained neural model \n",
    "    for token in tokens:\n",
    "        if not wordVec.vocab.get(token):\n",
    "            # Predict embedding from ML model\n",
    "            embedding = model.predict(token)\n",
    "        else:\n",
    "            embedding = wordVec[token]\n",
    "            \n",
    "        final_embedding += embedding\n",
    "        count += 1\n",
    "    \n",
    "    # Find average value of embedding\n",
    "    avg_embedding = final_embedding/count\n",
    "    \n",
    "    return avg_embedding\n",
    "\n",
    "\n",
    "def main():\n",
    "    '''\n",
    "    Key Steps:\n",
    "    \n",
    "    1) For each site bring in raw xml\n",
    "    2) Parse xml into token sets corresponding to features\n",
    "    3) For each feature type calculate avg feature for each site and save output\n",
    "    4) repeat for each feature\n",
    "    '''\n"
   ]
  },
  {
   "cell_type": "code",
   "execution_count": 4,
   "metadata": {},
   "outputs": [],
   "source": [
    "beginning_array = np.zeros(300)\n"
   ]
  },
  {
   "cell_type": "code",
   "execution_count": 5,
   "metadata": {},
   "outputs": [
    {
     "data": {
      "text/plain": [
       "array([0., 0., 0., 0., 0., 0., 0., 0., 0., 0., 0., 0., 0., 0., 0., 0., 0.,\n",
       "       0., 0., 0., 0., 0., 0., 0., 0., 0., 0., 0., 0., 0., 0., 0., 0., 0.,\n",
       "       0., 0., 0., 0., 0., 0., 0., 0., 0., 0., 0., 0., 0., 0., 0., 0., 0.,\n",
       "       0., 0., 0., 0., 0., 0., 0., 0., 0., 0., 0., 0., 0., 0., 0., 0., 0.,\n",
       "       0., 0., 0., 0., 0., 0., 0., 0., 0., 0., 0., 0., 0., 0., 0., 0., 0.,\n",
       "       0., 0., 0., 0., 0., 0., 0., 0., 0., 0., 0., 0., 0., 0., 0., 0., 0.,\n",
       "       0., 0., 0., 0., 0., 0., 0., 0., 0., 0., 0., 0., 0., 0., 0., 0., 0.,\n",
       "       0., 0., 0., 0., 0., 0., 0., 0., 0., 0., 0., 0., 0., 0., 0., 0., 0.,\n",
       "       0., 0., 0., 0., 0., 0., 0., 0., 0., 0., 0., 0., 0., 0., 0., 0., 0.,\n",
       "       0., 0., 0., 0., 0., 0., 0., 0., 0., 0., 0., 0., 0., 0., 0., 0., 0.,\n",
       "       0., 0., 0., 0., 0., 0., 0., 0., 0., 0., 0., 0., 0., 0., 0., 0., 0.,\n",
       "       0., 0., 0., 0., 0., 0., 0., 0., 0., 0., 0., 0., 0., 0., 0., 0., 0.,\n",
       "       0., 0., 0., 0., 0., 0., 0., 0., 0., 0., 0., 0., 0., 0., 0., 0., 0.,\n",
       "       0., 0., 0., 0., 0., 0., 0., 0., 0., 0., 0., 0., 0., 0., 0., 0., 0.,\n",
       "       0., 0., 0., 0., 0., 0., 0., 0., 0., 0., 0., 0., 0., 0., 0., 0., 0.,\n",
       "       0., 0., 0., 0., 0., 0., 0., 0., 0., 0., 0., 0., 0., 0., 0., 0., 0.,\n",
       "       0., 0., 0., 0., 0., 0., 0., 0., 0., 0., 0., 0., 0., 0., 0., 0., 0.,\n",
       "       0., 0., 0., 0., 0., 0., 0., 0., 0., 0., 0.])"
      ]
     },
     "execution_count": 5,
     "metadata": {},
     "output_type": "execute_result"
    }
   ],
   "source": [
    "beginning_array"
   ]
  },
  {
   "cell_type": "code",
   "execution_count": null,
   "metadata": {},
   "outputs": [],
   "source": []
  }
 ],
 "metadata": {
  "kernelspec": {
   "display_name": "Python 3",
   "language": "python",
   "name": "python3"
  },
  "language_info": {
   "codemirror_mode": {
    "name": "ipython",
    "version": 3
   },
   "file_extension": ".py",
   "mimetype": "text/x-python",
   "name": "python",
   "nbconvert_exporter": "python",
   "pygments_lexer": "ipython3",
   "version": "3.6.5"
  }
 },
 "nbformat": 4,
 "nbformat_minor": 2
}

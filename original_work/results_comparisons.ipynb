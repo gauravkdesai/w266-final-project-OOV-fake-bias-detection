{
 "cells": [
  {
   "cell_type": "markdown",
   "metadata": {},
   "source": [
    "## This notebook compares performance of our models with original Baly's models"
   ]
  },
  {
   "cell_type": "code",
   "execution_count": 79,
   "metadata": {},
   "outputs": [],
   "source": [
    "import importlib\n",
    "import classification as nmrc\n",
    "importlib.reload(nmrc)\n",
    "import pandas as pd\n",
    "from multiprocessing import Pool, Manager"
   ]
  },
  {
   "cell_type": "code",
   "execution_count": 2,
   "metadata": {},
   "outputs": [],
   "source": [
    "news_media_data_folder_location='''../News-Media_Reliability/data/'''\n",
    "news_media_corpus_file = news_media_data_folder_location+'''corpus.csv'''\n",
    "news_media_feature_location = news_media_data_folder_location+'''features/'''"
   ]
  },
  {
   "cell_type": "code",
   "execution_count": 3,
   "metadata": {},
   "outputs": [],
   "source": [
    "model1_feature_location = '''features/mimic_model_original.h5/'''\n",
    "model2_feature_location = '''features/mimic_model_complex.h5/'''"
   ]
  },
  {
   "cell_type": "code",
   "execution_count": 74,
   "metadata": {},
   "outputs": [],
   "source": [
    "def run_classification(result_list, name, feature_location, corpus = news_media_corpus_file\n",
    "                       , task = 'bias', features = ['has_wiki'] ):\n",
    "    result = nmrc.Classification(corpus, features, task,feature_location)\n",
    "    result_dict = {'name':name\n",
    "                    ,'feature_location':feature_location\n",
    "                    ,'task':task\n",
    "                    ,'features':\",\".join(features)\n",
    "                    ,'F1':result[0]\n",
    "                    ,'Accuracy':result[1]\n",
    "                    ,'MAE':result[2]\n",
    "                    ,'MAE_U':result[3]}\n",
    "    \n",
    "    result_list.append(result_dict)\n",
    "    \n",
    "    "
   ]
  },
  {
   "cell_type": "code",
   "execution_count": null,
   "metadata": {},
   "outputs": [
    {
     "name": "stdout",
     "output_type": "stream",
     "text": [
      "corpus ../News-Media_Reliability/data/corpus.csv\n",
      "feature_list ['has_wiki']\n",
      "task bias\n",
      "feature_location ../News-Media_Reliability/data/features/\n",
      "corpus ../News-Media_Reliability/data/corpus.csv\n",
      "feature_list ['has_wiki', 'wikicontent', 'wikisummary', 'wikitoc', 'wikicategories']\n",
      "task bias\n",
      "feature_location ../News-Media_Reliability/data/features/\n",
      "corpus ../News-Media_Reliability/data/corpus.csv\n",
      "feature_list ['has_wiki']\n",
      "task fact\n",
      "feature_location ../News-Media_Reliability/data/features/\n",
      "corpus ../News-Media_Reliability/data/corpus.csv\n",
      "feature_list ['has_wiki', 'wikicontent', 'wikisummary', 'wikitoc', 'wikicategories']\n",
      "task fact\n",
      "feature_location ../News-Media_Reliability/data/features/\n",
      "corpus ../News-Media_Reliability/data/corpus.csv\n",
      "feature_list ['has_wiki']\n",
      "task bias\n",
      "feature_location features/mimic_model_original.h5/\n",
      "corpus ../News-Media_Reliability/data/corpus.csv\n",
      "feature_list ['has_wiki', 'wikicontent', 'wikisummary', 'wikitoc', 'wikicategories']\n",
      "task bias\n",
      "feature_location features/mimic_model_original.h5/\n",
      "corpus ../News-Media_Reliability/data/corpus.csv\n",
      "feature_list ['has_wiki']\n",
      "task fact\n",
      "feature_location features/mimic_model_original.h5/\n",
      "corpus ../News-Media_Reliability/data/corpus.csv\n",
      "feature_list ['has_wiki', 'wikicontent', 'wikisummary', 'wikitoc', 'wikicategories']\n",
      "task fact\n",
      "feature_location features/mimic_model_original.h5/\n",
      "corpus ../News-Media_Reliability/data/corpus.csv\n",
      "feature_list ['has_wiki']\n",
      "task bias\n",
      "feature_location features/mimic_model_complex.h5/\n",
      "corpus ../News-Media_Reliability/data/corpus.csv\n",
      "feature_list ['has_wiki', 'wikicontent', 'wikisummary', 'wikitoc', 'wikicategories']\n",
      "task bias\n",
      "feature_location features/mimic_model_complex.h5/\n",
      "corpus ../News-Media_Reliability/data/corpus.csv\n",
      "feature_list ['has_wiki']\n",
      "task fact\n",
      "feature_location features/mimic_model_complex.h5/\n",
      "corpus ../News-Media_Reliability/data/corpus.csv\n",
      "feature_list ['has_wiki', 'wikicontent', 'wikisummary', 'wikitoc', 'wikicategories']\n",
      "task fact\n",
      "feature_location features/mimic_model_complex.h5/\n",
      "fold 0\n",
      "fold 0\n",
      "fold 0\n",
      "fold 0\n",
      "fold 1\n",
      "fold 1\n",
      "fold 2\n",
      "fold 3\n",
      "fold 2\n",
      "fold 4\n",
      "fold 3\n",
      "fold 0\n",
      "fold 4\n",
      "fold 1\n",
      "fold 2\n",
      "fold 0\n",
      "fold 3\n",
      "fold 4\n",
      "fold 0\n",
      "fold 1\n",
      "fold 2\n",
      "fold 3\n",
      "fold 4\n",
      "fold 0\n"
     ]
    }
   ],
   "source": [
    "result_list=Manager().list()\n",
    "tasks = ['bias','fact']\n",
    "features = [['has_wiki']#, ['wikicontent'], ['wikisummary'], ['wikitoc'], ['wikicategories']\n",
    "           ,['has_wiki','wikicontent','wikisummary','wikitoc','wikicategories']]\n",
    "feature_locations = [news_media_feature_location,model1_feature_location,model2_feature_location]\n",
    "model_names = ['original','original_replica','complex']\n",
    "corpus = news_media_corpus_file\n",
    "processes = []\n",
    "parameters_list = []\n",
    "no_of_cpu=4 # on gcp this can be increased to match capacity\n",
    "\n",
    "def run_classifier():\n",
    "\n",
    "    for i,model_name in enumerate(model_names):\n",
    "        feature_location =feature_locations[i]\n",
    "        for task in tasks:\n",
    "            for feature_list in features:\n",
    "                print('corpus',corpus)\n",
    "                print('feature_list',feature_list)\n",
    "                print('task',task)\n",
    "                print('feature_location',feature_location)\n",
    "\n",
    "                parameters = (result_list, model_name, feature_location, corpus, task, feature_list)\n",
    "                parameters_list.append(parameters)\n",
    "#                     p = Process(target=run_classification, args=parameters)\n",
    "#                     p.start()\n",
    "#                     processes.append(p)\n",
    "    #             result = run_classification(model_name, feature_location, corpus, task, feature_list)\n",
    "    #             result_list.append(result)\n",
    "    #print(parameters_list)\n",
    "    with Pool(processes=no_of_cpu) as pool:\n",
    "        result_async = pool.starmap_async(run_classification, parameters_list)\n",
    "\n",
    "        pool.close()\n",
    "        pool.join()\n",
    "        \n",
    "    #print(result_async.get())\n",
    "\n",
    "        \n",
    "run_classifier()"
   ]
  },
  {
   "cell_type": "code",
   "execution_count": 93,
   "metadata": {},
   "outputs": [
    {
     "ename": "FileNotFoundError",
     "evalue": "[Errno 2] No such file or directory",
     "output_type": "error",
     "traceback": [
      "\u001b[0;31m---------------------------------------------------------------------------\u001b[0m",
      "\u001b[0;31mAttributeError\u001b[0m                            Traceback (most recent call last)",
      "\u001b[0;32m/anaconda3/lib/python3.7/multiprocessing/managers.py\u001b[0m in \u001b[0;36m_callmethod\u001b[0;34m(self, methodname, args, kwds)\u001b[0m\n\u001b[1;32m    787\u001b[0m         \u001b[0;32mtry\u001b[0m\u001b[0;34m:\u001b[0m\u001b[0;34m\u001b[0m\u001b[0m\n\u001b[0;32m--> 788\u001b[0;31m             \u001b[0mconn\u001b[0m \u001b[0;34m=\u001b[0m \u001b[0mself\u001b[0m\u001b[0;34m.\u001b[0m\u001b[0m_tls\u001b[0m\u001b[0;34m.\u001b[0m\u001b[0mconnection\u001b[0m\u001b[0;34m\u001b[0m\u001b[0m\n\u001b[0m\u001b[1;32m    789\u001b[0m         \u001b[0;32mexcept\u001b[0m \u001b[0mAttributeError\u001b[0m\u001b[0;34m:\u001b[0m\u001b[0;34m\u001b[0m\u001b[0m\n",
      "\u001b[0;31mAttributeError\u001b[0m: 'ForkAwareLocal' object has no attribute 'connection'",
      "\nDuring handling of the above exception, another exception occurred:\n",
      "\u001b[0;31mFileNotFoundError\u001b[0m                         Traceback (most recent call last)",
      "\u001b[0;32m<ipython-input-93-2cd447400e82>\u001b[0m in \u001b[0;36m<module>\u001b[0;34m()\u001b[0m\n\u001b[1;32m      1\u001b[0m \u001b[0;31m#print(result_list)\u001b[0m\u001b[0;34m\u001b[0m\u001b[0;34m\u001b[0m\u001b[0m\n\u001b[0;32m----> 2\u001b[0;31m \u001b[0mresult_df\u001b[0m \u001b[0;34m=\u001b[0m \u001b[0mpd\u001b[0m\u001b[0;34m.\u001b[0m\u001b[0mDataFrame\u001b[0m\u001b[0;34m(\u001b[0m\u001b[0mresult_list\u001b[0m\u001b[0;34m[\u001b[0m\u001b[0;34m:\u001b[0m\u001b[0;34m]\u001b[0m\u001b[0;34m)\u001b[0m\u001b[0;34m\u001b[0m\u001b[0m\n\u001b[0m\u001b[1;32m      3\u001b[0m \u001b[0mdisplay_result_df\u001b[0m \u001b[0;34m=\u001b[0m \u001b[0mresult_df\u001b[0m\u001b[0;34m.\u001b[0m\u001b[0mdrop\u001b[0m\u001b[0;34m(\u001b[0m\u001b[0mlabels\u001b[0m\u001b[0;34m=\u001b[0m\u001b[0;34m[\u001b[0m\u001b[0;34m'feature_location'\u001b[0m\u001b[0;34m]\u001b[0m\u001b[0;34m,\u001b[0m \u001b[0maxis\u001b[0m\u001b[0;34m=\u001b[0m\u001b[0;36m1\u001b[0m\u001b[0;34m)\u001b[0m\u001b[0;34m\u001b[0m\u001b[0m\n\u001b[1;32m      4\u001b[0m \u001b[0;31m#display_result_df=display_result_df.sort_values(by=1)\u001b[0m\u001b[0;34m\u001b[0m\u001b[0;34m\u001b[0m\u001b[0m\n",
      "\u001b[0;32m<string>\u001b[0m in \u001b[0;36m__getitem__\u001b[0;34m(self, *args, **kwds)\u001b[0m\n",
      "\u001b[0;32m/anaconda3/lib/python3.7/multiprocessing/managers.py\u001b[0m in \u001b[0;36m_callmethod\u001b[0;34m(self, methodname, args, kwds)\u001b[0m\n\u001b[1;32m    790\u001b[0m             util.debug('thread %r does not own a connection',\n\u001b[1;32m    791\u001b[0m                        threading.current_thread().name)\n\u001b[0;32m--> 792\u001b[0;31m             \u001b[0mself\u001b[0m\u001b[0;34m.\u001b[0m\u001b[0m_connect\u001b[0m\u001b[0;34m(\u001b[0m\u001b[0;34m)\u001b[0m\u001b[0;34m\u001b[0m\u001b[0m\n\u001b[0m\u001b[1;32m    793\u001b[0m             \u001b[0mconn\u001b[0m \u001b[0;34m=\u001b[0m \u001b[0mself\u001b[0m\u001b[0;34m.\u001b[0m\u001b[0m_tls\u001b[0m\u001b[0;34m.\u001b[0m\u001b[0mconnection\u001b[0m\u001b[0;34m\u001b[0m\u001b[0m\n\u001b[1;32m    794\u001b[0m \u001b[0;34m\u001b[0m\u001b[0m\n",
      "\u001b[0;32m/anaconda3/lib/python3.7/multiprocessing/managers.py\u001b[0m in \u001b[0;36m_connect\u001b[0;34m(self)\u001b[0m\n\u001b[1;32m    777\u001b[0m         \u001b[0;32mif\u001b[0m \u001b[0mthreading\u001b[0m\u001b[0;34m.\u001b[0m\u001b[0mcurrent_thread\u001b[0m\u001b[0;34m(\u001b[0m\u001b[0;34m)\u001b[0m\u001b[0;34m.\u001b[0m\u001b[0mname\u001b[0m \u001b[0;34m!=\u001b[0m \u001b[0;34m'MainThread'\u001b[0m\u001b[0;34m:\u001b[0m\u001b[0;34m\u001b[0m\u001b[0m\n\u001b[1;32m    778\u001b[0m             \u001b[0mname\u001b[0m \u001b[0;34m+=\u001b[0m \u001b[0;34m'|'\u001b[0m \u001b[0;34m+\u001b[0m \u001b[0mthreading\u001b[0m\u001b[0;34m.\u001b[0m\u001b[0mcurrent_thread\u001b[0m\u001b[0;34m(\u001b[0m\u001b[0;34m)\u001b[0m\u001b[0;34m.\u001b[0m\u001b[0mname\u001b[0m\u001b[0;34m\u001b[0m\u001b[0m\n\u001b[0;32m--> 779\u001b[0;31m         \u001b[0mconn\u001b[0m \u001b[0;34m=\u001b[0m \u001b[0mself\u001b[0m\u001b[0;34m.\u001b[0m\u001b[0m_Client\u001b[0m\u001b[0;34m(\u001b[0m\u001b[0mself\u001b[0m\u001b[0;34m.\u001b[0m\u001b[0m_token\u001b[0m\u001b[0;34m.\u001b[0m\u001b[0maddress\u001b[0m\u001b[0;34m,\u001b[0m \u001b[0mauthkey\u001b[0m\u001b[0;34m=\u001b[0m\u001b[0mself\u001b[0m\u001b[0;34m.\u001b[0m\u001b[0m_authkey\u001b[0m\u001b[0;34m)\u001b[0m\u001b[0;34m\u001b[0m\u001b[0m\n\u001b[0m\u001b[1;32m    780\u001b[0m         \u001b[0mdispatch\u001b[0m\u001b[0;34m(\u001b[0m\u001b[0mconn\u001b[0m\u001b[0;34m,\u001b[0m \u001b[0;32mNone\u001b[0m\u001b[0;34m,\u001b[0m \u001b[0;34m'accept_connection'\u001b[0m\u001b[0;34m,\u001b[0m \u001b[0;34m(\u001b[0m\u001b[0mname\u001b[0m\u001b[0;34m,\u001b[0m\u001b[0;34m)\u001b[0m\u001b[0;34m)\u001b[0m\u001b[0;34m\u001b[0m\u001b[0m\n\u001b[1;32m    781\u001b[0m         \u001b[0mself\u001b[0m\u001b[0;34m.\u001b[0m\u001b[0m_tls\u001b[0m\u001b[0;34m.\u001b[0m\u001b[0mconnection\u001b[0m \u001b[0;34m=\u001b[0m \u001b[0mconn\u001b[0m\u001b[0;34m\u001b[0m\u001b[0m\n",
      "\u001b[0;32m/anaconda3/lib/python3.7/multiprocessing/connection.py\u001b[0m in \u001b[0;36mClient\u001b[0;34m(address, family, authkey)\u001b[0m\n\u001b[1;32m    490\u001b[0m         \u001b[0mc\u001b[0m \u001b[0;34m=\u001b[0m \u001b[0mPipeClient\u001b[0m\u001b[0;34m(\u001b[0m\u001b[0maddress\u001b[0m\u001b[0;34m)\u001b[0m\u001b[0;34m\u001b[0m\u001b[0m\n\u001b[1;32m    491\u001b[0m     \u001b[0;32melse\u001b[0m\u001b[0;34m:\u001b[0m\u001b[0;34m\u001b[0m\u001b[0m\n\u001b[0;32m--> 492\u001b[0;31m         \u001b[0mc\u001b[0m \u001b[0;34m=\u001b[0m \u001b[0mSocketClient\u001b[0m\u001b[0;34m(\u001b[0m\u001b[0maddress\u001b[0m\u001b[0;34m)\u001b[0m\u001b[0;34m\u001b[0m\u001b[0m\n\u001b[0m\u001b[1;32m    493\u001b[0m \u001b[0;34m\u001b[0m\u001b[0m\n\u001b[1;32m    494\u001b[0m     \u001b[0;32mif\u001b[0m \u001b[0mauthkey\u001b[0m \u001b[0;32mis\u001b[0m \u001b[0;32mnot\u001b[0m \u001b[0;32mNone\u001b[0m \u001b[0;32mand\u001b[0m \u001b[0;32mnot\u001b[0m \u001b[0misinstance\u001b[0m\u001b[0;34m(\u001b[0m\u001b[0mauthkey\u001b[0m\u001b[0;34m,\u001b[0m \u001b[0mbytes\u001b[0m\u001b[0;34m)\u001b[0m\u001b[0;34m:\u001b[0m\u001b[0;34m\u001b[0m\u001b[0m\n",
      "\u001b[0;32m/anaconda3/lib/python3.7/multiprocessing/connection.py\u001b[0m in \u001b[0;36mSocketClient\u001b[0;34m(address)\u001b[0m\n\u001b[1;32m    617\u001b[0m     \u001b[0;32mwith\u001b[0m \u001b[0msocket\u001b[0m\u001b[0;34m.\u001b[0m\u001b[0msocket\u001b[0m\u001b[0;34m(\u001b[0m \u001b[0mgetattr\u001b[0m\u001b[0;34m(\u001b[0m\u001b[0msocket\u001b[0m\u001b[0;34m,\u001b[0m \u001b[0mfamily\u001b[0m\u001b[0;34m)\u001b[0m \u001b[0;34m)\u001b[0m \u001b[0;32mas\u001b[0m \u001b[0ms\u001b[0m\u001b[0;34m:\u001b[0m\u001b[0;34m\u001b[0m\u001b[0m\n\u001b[1;32m    618\u001b[0m         \u001b[0ms\u001b[0m\u001b[0;34m.\u001b[0m\u001b[0msetblocking\u001b[0m\u001b[0;34m(\u001b[0m\u001b[0;32mTrue\u001b[0m\u001b[0;34m)\u001b[0m\u001b[0;34m\u001b[0m\u001b[0m\n\u001b[0;32m--> 619\u001b[0;31m         \u001b[0ms\u001b[0m\u001b[0;34m.\u001b[0m\u001b[0mconnect\u001b[0m\u001b[0;34m(\u001b[0m\u001b[0maddress\u001b[0m\u001b[0;34m)\u001b[0m\u001b[0;34m\u001b[0m\u001b[0m\n\u001b[0m\u001b[1;32m    620\u001b[0m         \u001b[0;32mreturn\u001b[0m \u001b[0mConnection\u001b[0m\u001b[0;34m(\u001b[0m\u001b[0ms\u001b[0m\u001b[0;34m.\u001b[0m\u001b[0mdetach\u001b[0m\u001b[0;34m(\u001b[0m\u001b[0;34m)\u001b[0m\u001b[0;34m)\u001b[0m\u001b[0;34m\u001b[0m\u001b[0m\n\u001b[1;32m    621\u001b[0m \u001b[0;34m\u001b[0m\u001b[0m\n",
      "\u001b[0;31mFileNotFoundError\u001b[0m: [Errno 2] No such file or directory"
     ]
    }
   ],
   "source": [
    "#print(result_list)\n",
    "result_df = pd.DataFrame(result_list[:])\n",
    "display_result_df = result_df.drop(labels=['feature_location'], axis=1)\n",
    "#display_result_df=display_result_df.sort_values(by=1)"
   ]
  },
  {
   "cell_type": "code",
   "execution_count": 89,
   "metadata": {},
   "outputs": [
    {
     "data": {
      "text/html": [
       "<style  type=\"text/css\" >\n",
       "</style>  \n",
       "<table id=\"T_0735b108_5902_11e9_b7fd_68fef708598a\" > \n",
       "<thead>    <tr> \n",
       "        <th class=\"blank level0\" ></th> \n",
       "        <th class=\"col_heading level0 col0\" >Accuracy</th> \n",
       "        <th class=\"col_heading level0 col1\" >F1</th> \n",
       "        <th class=\"col_heading level0 col2\" >MAE</th> \n",
       "        <th class=\"col_heading level0 col3\" >MAE_U</th> \n",
       "        <th class=\"col_heading level0 col4\" >features</th> \n",
       "        <th class=\"col_heading level0 col5\" >name</th> \n",
       "        <th class=\"col_heading level0 col6\" >task</th> \n",
       "    </tr></thead> \n",
       "<tbody>    <tr> \n",
       "        <th id=\"T_0735b108_5902_11e9_b7fd_68fef708598alevel0_row0\" class=\"row_heading level0 row0\" >0</th> \n",
       "        <td id=\"T_0735b108_5902_11e9_b7fd_68fef708598arow0_col0\" class=\"data row0 col0\" >26.0788</td> \n",
       "        <td id=\"T_0735b108_5902_11e9_b7fd_68fef708598arow0_col1\" class=\"data row0 col1\" >10.1856</td> \n",
       "        <td id=\"T_0735b108_5902_11e9_b7fd_68fef708598arow0_col2\" class=\"data row0 col2\" >1.40056</td> \n",
       "        <td id=\"T_0735b108_5902_11e9_b7fd_68fef708598arow0_col3\" class=\"data row0 col3\" >1.7383</td> \n",
       "        <td id=\"T_0735b108_5902_11e9_b7fd_68fef708598arow0_col4\" class=\"data row0 col4\" >has_wiki</td> \n",
       "        <td id=\"T_0735b108_5902_11e9_b7fd_68fef708598arow0_col5\" class=\"data row0 col5\" >original_replica</td> \n",
       "        <td id=\"T_0735b108_5902_11e9_b7fd_68fef708598arow0_col6\" class=\"data row0 col6\" >bias</td> \n",
       "    </tr>    <tr> \n",
       "        <th id=\"T_0735b108_5902_11e9_b7fd_68fef708598alevel0_row1\" class=\"row_heading level0 row1\" >1</th> \n",
       "        <td id=\"T_0735b108_5902_11e9_b7fd_68fef708598arow1_col0\" class=\"data row1 col0\" >26.8293</td> \n",
       "        <td id=\"T_0735b108_5902_11e9_b7fd_68fef708598arow1_col1\" class=\"data row1 col1\" >14.3271</td> \n",
       "        <td id=\"T_0735b108_5902_11e9_b7fd_68fef708598arow1_col2\" class=\"data row1 col2\" >1.63133</td> \n",
       "        <td id=\"T_0735b108_5902_11e9_b7fd_68fef708598arow1_col3\" class=\"data row1 col3\" >2.13737</td> \n",
       "        <td id=\"T_0735b108_5902_11e9_b7fd_68fef708598arow1_col4\" class=\"data row1 col4\" >has_wiki</td> \n",
       "        <td id=\"T_0735b108_5902_11e9_b7fd_68fef708598arow1_col5\" class=\"data row1 col5\" >original</td> \n",
       "        <td id=\"T_0735b108_5902_11e9_b7fd_68fef708598arow1_col6\" class=\"data row1 col6\" >bias</td> \n",
       "    </tr></tbody> \n",
       "</table> "
      ],
      "text/plain": [
       "<pandas.io.formats.style.Styler at 0x1a29507390>"
      ]
     },
     "execution_count": 89,
     "metadata": {},
     "output_type": "execute_result"
    }
   ],
   "source": [
    "display_result_df.style"
   ]
  },
  {
   "cell_type": "markdown",
   "metadata": {},
   "source": [
    "### BaseLine"
   ]
  },
  {
   "cell_type": "code",
   "execution_count": null,
   "metadata": {},
   "outputs": [],
   "source": [
    "corpus = news_media_corpus_file\n",
    "task = 'bias'\n",
    "features = ['wikicontent']#['has_wiki']#, 'wikicontent', 'wikisummary', 'wikitoc', 'wikicategories']\n",
    "feature_location = news_media_feature_location\n",
    "\n",
    "print('task:'     + task)\n",
    "print('features:' + ', '.join(features))\n",
    "results = nmrc.Classification(corpus, features, task,feature_location)"
   ]
  },
  {
   "cell_type": "code",
   "execution_count": null,
   "metadata": {},
   "outputs": [],
   "source": [
    "print('Results:')\n",
    "print('F1\\t{}'.format(results[0]))\n",
    "print('Acc.\\t{}'.format(results[1]))\n",
    "print('MAE\\t{}'.format(results[2]))\n",
    "print('MAE_u\\t{}'.format(results[3]))"
   ]
  },
  {
   "cell_type": "code",
   "execution_count": null,
   "metadata": {},
   "outputs": [],
   "source": [
    "model1_feature_location = '''features/mimic_model_original.h5/'''\n",
    "corpus = news_media_corpus_file\n",
    "task = 'bias'\n",
    "features = ['wikicontent']#['has_wiki', 'wikicontent', 'wikisummary', 'wikitoc', 'wikicategories']\n",
    "feature_location = news_media_feature_location\n",
    "\n",
    "print('task:'     + task)\n",
    "print('features:' + ', '.join(features))\n",
    "results = nmrc.Classification(corpus, features, task,model1_feature_location)"
   ]
  },
  {
   "cell_type": "code",
   "execution_count": null,
   "metadata": {},
   "outputs": [],
   "source": [
    "print('Results:')\n",
    "print('F1\\t{}'.format(results[0]))\n",
    "print('Acc.\\t{}'.format(results[1]))\n",
    "print('MAE\\t{}'.format(results[2]))\n",
    "print('MAE_u\\t{}'.format(results[3]))"
   ]
  },
  {
   "cell_type": "code",
   "execution_count": null,
   "metadata": {},
   "outputs": [],
   "source": [
    "model2_feature_location = '''features/mimic_model_complex.h5/'''\n",
    "corpus = news_media_corpus_file\n",
    "task = 'bias'\n",
    "features = ['has_wiki']#, 'wikicontent', 'wikisummary', 'wikitoc', 'wikicategories']\n",
    "feature_location = news_media_feature_location\n",
    "\n",
    "print('task:'     + task)\n",
    "print('features:' + ', '.join(features))\n",
    "results = nmrc.Classification(corpus, features, task,model2_feature_location)"
   ]
  },
  {
   "cell_type": "code",
   "execution_count": null,
   "metadata": {},
   "outputs": [],
   "source": [
    "print('Results:')\n",
    "print('F1\\t{}'.format(results[0]))\n",
    "print('Acc.\\t{}'.format(results[1]))\n",
    "print('MAE\\t{}'.format(results[2]))\n",
    "print('MAE_u\\t{}'.format(results[3]))"
   ]
  }
 ],
 "metadata": {
  "kernelspec": {
   "display_name": "Python 3",
   "language": "python",
   "name": "python3"
  },
  "language_info": {
   "codemirror_mode": {
    "name": "ipython",
    "version": 3
   },
   "file_extension": ".py",
   "mimetype": "text/x-python",
   "name": "python",
   "nbconvert_exporter": "python",
   "pygments_lexer": "ipython3",
   "version": "3.7.0"
  }
 },
 "nbformat": 4,
 "nbformat_minor": 2
}
